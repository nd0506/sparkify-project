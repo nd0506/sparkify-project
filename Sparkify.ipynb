{
 "cells": [
  {
   "cell_type": "markdown",
   "metadata": {},
   "source": [
    "# Sparkify Project: Predicting At-Risk Users"
   ]
  },
  {
   "cell_type": "markdown",
   "metadata": {},
   "source": [
    "# Project Overview\n",
    "\n",
    "Sparkify is a music streaming app facing a critical challenge: identifying at-risk users who are likely to cancel their subscription. Like many businesses, retaining users is essential for Sparkify's growth and profitability. By identifying these users early, Sparkify can implement targeted promotions to increase retention and ultimately boost revenue.\n",
    "\n",
    "In this project, we leverage user event data from the Sparkify app to build a machine learning model that predicts at-risk users. The dataset includes key information such as:\n",
    "\n",
    "* User Profile: User ID, name, gender, location, subscription level, etc.\n",
    "* User Behavior: Actions within the app (e.g., play song, downgrade, upgrade, cancel subscription, thumbs up/down), session details, song play time, and more.\n",
    "* Timestamp: The time each event occurred.\n",
    "\n",
    "**Strategy to predict At-Risk Users:**\n",
    "\n",
    "* **Data Processing & Cleaning:** Remove invalid or missing data to ensure data quality.\n",
    "* **Exploratory Data Analysis (EDA):** Analyze the data to uncover patterns and identify key features for prediction.\n",
    "    * **Churn Definition:** Users who cancel their subscription are labeled as \"churn\" (1), while others are labeled as \"non-churn\" (0).\n",
    "    * **Behavioral Analysis:** Compare behaviors between churned and non-churned users to select relevant features.\n",
    "* **Feature Engineering:** Select and create the most predictive features for the model.\n",
    "* **Modeling:** Test various machine learning models to find the best-performing one.\n",
    "* **Evaluation:** Use the F1-score to evaluate model performance, ensuring a balance between precision and recall."
   ]
  },
  {
   "cell_type": "code",
   "execution_count": 1,
   "metadata": {},
   "outputs": [
    {
     "data": {
      "text/html": [
       "<style>\n",
       "div.output_area pre {\n",
       "    white-space: pre;\n",
       "}\n",
       ".container { \n",
       "    width:100% !important; \n",
       "}\n",
       "</style>"
      ],
      "text/plain": [
       "<IPython.core.display.HTML object>"
      ]
     },
     "metadata": {},
     "output_type": "display_data"
    }
   ],
   "source": [
    "%%html\n",
    "<style>\n",
    "div.output_area pre {\n",
    "    white-space: pre;\n",
    "}\n",
    ".container { \n",
    "    width:100% !important; \n",
    "}\n",
    "</style>"
   ]
  },
  {
   "cell_type": "code",
   "execution_count": 2,
   "metadata": {},
   "outputs": [],
   "source": [
    "# import libraries\n",
    "import pandas as pd\n",
    "import pyspark\n",
    "from pyspark.sql import SparkSession\n",
    "import pyspark.sql.functions as F\n",
    "from pyspark.sql.functions import *\n",
    "from pyspark.sql.types import  TimestampType\n",
    "import matplotlib.pyplot as plt\n",
    "import seaborn as sns\n",
    "from pyspark.ml.classification import LogisticRegression, RandomForestClassifier\n",
    "from pyspark.ml.feature import VectorAssembler\n",
    "from pyspark.ml import Pipeline\n",
    "from pyspark.ml.tuning import CrossValidator, ParamGridBuilder\n",
    "from pyspark.ml.evaluation import MulticlassClassificationEvaluator\n",
    "from pyspark.ml.feature import StringIndexer, OneHotEncoder\n",
    "from pyspark.ml import Pipeline\n",
    "from pyspark.sql import Window"
   ]
  },
  {
   "cell_type": "code",
   "execution_count": 3,
   "metadata": {},
   "outputs": [],
   "source": [
    "# create a Spark session\n",
    "spark = SparkSession \\\n",
    "    .builder \\\n",
    "    .appName(\"My Spark\") \\\n",
    "    .config(\"spark.some.config.option\", \"spark_config\") \\\n",
    "    .getOrCreate()"
   ]
  },
  {
   "cell_type": "markdown",
   "metadata": {},
   "source": [
    "# Load and Clean Dataset\n",
    "In this workspace, the mini-dataset file is `mini_sparkify_event_data.json`. Load and clean the dataset, checking for invalid or missing data - for example, records without userids or sessionids. "
   ]
  },
  {
   "cell_type": "code",
   "execution_count": 4,
   "metadata": {},
   "outputs": [],
   "source": [
    "#load data and cast ts column to timestamp type.\n",
    "df = spark.read.json(\"mini_sparkify_event_data.json\").withColumn('timestamp', (F.col('ts')/1000).cast(TimestampType()))"
   ]
  },
  {
   "cell_type": "code",
   "execution_count": 5,
   "metadata": {},
   "outputs": [
    {
     "name": "stdout",
     "output_type": "stream",
     "text": [
      "+--------------------+---------+---------+------+-------------+--------+---------+-----+--------------------+------+---------------+-------------+---------+--------------------+------+-------------+--------------------+------+-------------------+\n",
      "|              artist|     auth|firstName|gender|itemInSession|lastName|   length|level|            location|method|           page| registration|sessionId|                song|status|           ts|           userAgent|userId|          timestamp|\n",
      "+--------------------+---------+---------+------+-------------+--------+---------+-----+--------------------+------+---------------+-------------+---------+--------------------+------+-------------+--------------------+------+-------------------+\n",
      "|      Martha Tilston|Logged In|    Colin|     M|           50| Freeman|277.89016| paid|     Bakersfield, CA|   PUT|       NextSong|1538173362000|       29|           Rockpools|   200|1538352117000|Mozilla/5.0 (Wind...|    30|2018-10-01 00:01:57|\n",
      "|    Five Iron Frenzy|Logged In|    Micah|     M|           79|    Long|236.09424| free|Boston-Cambridge-...|   PUT|       NextSong|1538331630000|        8|              Canada|   200|1538352180000|\"Mozilla/5.0 (Win...|     9|2018-10-01 00:03:00|\n",
      "|        Adam Lambert|Logged In|    Colin|     M|           51| Freeman| 282.8273| paid|     Bakersfield, CA|   PUT|       NextSong|1538173362000|       29|   Time For Miracles|   200|1538352394000|Mozilla/5.0 (Wind...|    30|2018-10-01 00:06:34|\n",
      "|              Enigma|Logged In|    Micah|     M|           80|    Long|262.71302| free|Boston-Cambridge-...|   PUT|       NextSong|1538331630000|        8|Knocking On Forbi...|   200|1538352416000|\"Mozilla/5.0 (Win...|     9|2018-10-01 00:06:56|\n",
      "|           Daft Punk|Logged In|    Colin|     M|           52| Freeman|223.60771| paid|     Bakersfield, CA|   PUT|       NextSong|1538173362000|       29|Harder Better Fas...|   200|1538352676000|Mozilla/5.0 (Wind...|    30|2018-10-01 00:11:16|\n",
      "|The All-American ...|Logged In|    Micah|     M|           81|    Long|208.29995| free|Boston-Cambridge-...|   PUT|       NextSong|1538331630000|        8|      Don't Leave Me|   200|1538352678000|\"Mozilla/5.0 (Win...|     9|2018-10-01 00:11:18|\n",
      "|The Velvet Underg...|Logged In|    Micah|     M|           82|    Long|260.46649| free|Boston-Cambridge-...|   PUT|       NextSong|1538331630000|        8|         Run Run Run|   200|1538352886000|\"Mozilla/5.0 (Win...|     9|2018-10-01 00:14:46|\n",
      "|        Starflyer 59|Logged In|    Colin|     M|           53| Freeman|185.44281| paid|     Bakersfield, CA|   PUT|       NextSong|1538173362000|       29|Passengers (Old A...|   200|1538352899000|Mozilla/5.0 (Wind...|    30|2018-10-01 00:14:59|\n",
      "|                null|Logged In|    Colin|     M|           54| Freeman|     null| paid|     Bakersfield, CA|   PUT|Add to Playlist|1538173362000|       29|                null|   200|1538352905000|Mozilla/5.0 (Wind...|    30|2018-10-01 00:15:05|\n",
      "|            Frumpies|Logged In|    Colin|     M|           55| Freeman|134.47791| paid|     Bakersfield, CA|   PUT|       NextSong|1538173362000|       29|          Fuck Kitty|   200|1538353084000|Mozilla/5.0 (Wind...|    30|2018-10-01 00:18:04|\n",
      "+--------------------+---------+---------+------+-------------+--------+---------+-----+--------------------+------+---------------+-------------+---------+--------------------+------+-------------+--------------------+------+-------------------+\n",
      "only showing top 10 rows\n",
      "\n"
     ]
    }
   ],
   "source": [
    "df.show(10)"
   ]
  },
  {
   "cell_type": "code",
   "execution_count": 6,
   "metadata": {},
   "outputs": [
    {
     "data": {
      "text/plain": [
       "[('artist', 'string'),\n",
       " ('auth', 'string'),\n",
       " ('firstName', 'string'),\n",
       " ('gender', 'string'),\n",
       " ('itemInSession', 'bigint'),\n",
       " ('lastName', 'string'),\n",
       " ('length', 'double'),\n",
       " ('level', 'string'),\n",
       " ('location', 'string'),\n",
       " ('method', 'string'),\n",
       " ('page', 'string'),\n",
       " ('registration', 'bigint'),\n",
       " ('sessionId', 'bigint'),\n",
       " ('song', 'string'),\n",
       " ('status', 'bigint'),\n",
       " ('ts', 'bigint'),\n",
       " ('userAgent', 'string'),\n",
       " ('userId', 'string'),\n",
       " ('timestamp', 'timestamp')]"
      ]
     },
     "execution_count": 6,
     "metadata": {},
     "output_type": "execute_result"
    }
   ],
   "source": [
    "df.dtypes"
   ]
  },
  {
   "cell_type": "code",
   "execution_count": 7,
   "metadata": {},
   "outputs": [],
   "source": [
    "# user and session check\n",
    "def gen_count_check(df, column_name):\n",
    "    user_check = df.agg(countDistinct(F.col(column_name)).alias('distinct_count'),\n",
    "                    count(F.col(column_name)).alias('count_all'),\n",
    "                   count(when(F.col(column_name).isNull(), F.col(column_name))).alias('null_count'),\n",
    "                   count(when(F.col(column_name)=='', F.col(column_name))).alias('empty_count'), \n",
    "                   )\n",
    "    return user_check.show()"
   ]
  },
  {
   "cell_type": "code",
   "execution_count": 8,
   "metadata": {},
   "outputs": [
    {
     "name": "stdout",
     "output_type": "stream",
     "text": [
      "Count Check for userId:\n",
      "+--------------+---------+----------+-----------+\n",
      "|distinct_count|count_all|null_count|empty_count|\n",
      "+--------------+---------+----------+-----------+\n",
      "|           226|   286500|         0|       8346|\n",
      "+--------------+---------+----------+-----------+\n",
      "\n",
      "Count Check for sessionId:\n",
      "+--------------+---------+----------+-----------+\n",
      "|distinct_count|count_all|null_count|empty_count|\n",
      "+--------------+---------+----------+-----------+\n",
      "|          2354|   286500|         0|          0|\n",
      "+--------------+---------+----------+-----------+\n",
      "\n"
     ]
    }
   ],
   "source": [
    "col_check = ['userId', 'sessionId']\n",
    "for col in col_check:\n",
    "    print(f'Count Check for {col}:')\n",
    "    gen_count_check(df, col)"
   ]
  },
  {
   "cell_type": "markdown",
   "metadata": {},
   "source": [
    "##### Observation:\n",
    "There are 8346 rows without a userId. Since identifying user behaviors is essential to our analysis, we will remove these rows as they don't provide useful information for our purpose. "
   ]
  },
  {
   "cell_type": "code",
   "execution_count": 9,
   "metadata": {},
   "outputs": [],
   "source": [
    "# Remove empty strings in userId column\n",
    "df = df.filter(F.col('userId')!='')"
   ]
  },
  {
   "cell_type": "markdown",
   "metadata": {},
   "source": [
    "# Exploratory Data Analysis"
   ]
  },
  {
   "cell_type": "markdown",
   "metadata": {},
   "source": [
    "### Preliminary analysis"
   ]
  },
  {
   "cell_type": "code",
   "execution_count": 10,
   "metadata": {},
   "outputs": [],
   "source": [
    "def col_count_check(df, column_name):\n",
    "    group_df = df.groupBy(column_name).agg(count(column_name).alias('count_all'),\n",
    "                                           count(when(F.col(column_name).isNull(), column_name)).alias('null_count'),\n",
    "                                           count(when(F.col(column_name) == '', column_name)).alias('empty_count'),\n",
    "                                           countDistinct('userId').alias('user_count'),\n",
    "                                           countDistinct('sessionId').alias('session_count')\n",
    "                                          )\n",
    "    return group_df"
   ]
  },
  {
   "cell_type": "code",
   "execution_count": 11,
   "metadata": {},
   "outputs": [
    {
     "name": "stdout",
     "output_type": "stream",
     "text": [
      "Results for column: gender\n",
      "+------+---------+----------+-----------+----------+-------------+\n",
      "|gender|count_all|null_count|empty_count|user_count|session_count|\n",
      "+------+---------+----------+-----------+----------+-------------+\n",
      "|     F|   154578|         0|          0|       104|         1437|\n",
      "|     M|   123576|         0|          0|       121|         1198|\n",
      "+------+---------+----------+-----------+----------+-------------+\n",
      "\n",
      "Results for column: level\n",
      "+-----+---------+----------+-----------+----------+-------------+\n",
      "|level|count_all|null_count|empty_count|user_count|session_count|\n",
      "+-----+---------+----------+-----------+----------+-------------+\n",
      "| free|    55721|         0|          0|       195|         1168|\n",
      "| paid|   222433|         0|          0|       165|         1648|\n",
      "+-----+---------+----------+-----------+----------+-------------+\n",
      "\n",
      "Results for column: page\n",
      "+--------------------+---------+----------+-----------+----------+-------------+\n",
      "|                page|count_all|null_count|empty_count|user_count|session_count|\n",
      "+--------------------+---------+----------+-----------+----------+-------------+\n",
      "|              Cancel|       52|         0|          0|        52|           52|\n",
      "|    Submit Downgrade|       63|         0|          0|        49|           61|\n",
      "|         Thumbs Down|     2546|         0|          0|       203|         1133|\n",
      "|                Home|    10082|         0|          0|       223|         2072|\n",
      "|           Downgrade|     2055|         0|          0|       154|          884|\n",
      "|         Roll Advert|     3933|         0|          0|       207|          991|\n",
      "|              Logout|     3226|         0|          0|       213|         1416|\n",
      "|       Save Settings|      310|         0|          0|       132|          271|\n",
      "|Cancellation Conf...|       52|         0|          0|        52|           52|\n",
      "|               About|      495|         0|          0|       155|          404|\n",
      "|            Settings|     1514|         0|          0|       195|          843|\n",
      "|     Add to Playlist|     6526|         0|          0|       215|         1596|\n",
      "|          Add Friend|     4277|         0|          0|       206|         1276|\n",
      "|            NextSong|   228108|         0|          0|       225|         2253|\n",
      "|           Thumbs Up|    12551|         0|          0|       220|         1869|\n",
      "|                Help|     1454|         0|          0|       192|          854|\n",
      "|             Upgrade|      499|         0|          0|       168|          365|\n",
      "|               Error|      252|         0|          0|       117|          224|\n",
      "|      Submit Upgrade|      159|         0|          0|       131|          153|\n",
      "+--------------------+---------+----------+-----------+----------+-------------+\n",
      "\n"
     ]
    }
   ],
   "source": [
    "# List of columns to check\n",
    "col_check2 = ['gender', 'level', 'page']\n",
    "\n",
    "# Loop through each column and run the count_check function\n",
    "for col in col_check2:\n",
    "    result = col_count_check(df, col)\n",
    "    print(f\"Results for column: {col}\")\n",
    "    result.show(100)"
   ]
  },
  {
   "cell_type": "code",
   "execution_count": 12,
   "metadata": {},
   "outputs": [
    {
     "name": "stdout",
     "output_type": "stream",
     "text": [
      "+----------+------------+----------+\n",
      "|user_count|churned_user|churn_rate|\n",
      "+----------+------------+----------+\n",
      "|       225|          52|     23.11|\n",
      "+----------+------------+----------+\n",
      "\n"
     ]
    }
   ],
   "source": [
    "user_check = df.agg(countDistinct(F.col('userId')).alias('user_count'), \n",
    "                    countDistinct(when(F.col('page')=='Cancellation Confirmation', F.col('userId'))).alias('churned_user')\n",
    "                   )\n",
    "\n",
    "user_check = user_check.withColumn('churn_rate', round((F.col('churned_user')/F.col('user_count'))*100, 2))\n",
    "user_check.show()"
   ]
  },
  {
   "cell_type": "markdown",
   "metadata": {},
   "source": [
    "#### Observation\n",
    "\n",
    "##### Data Overview:\n",
    "The dataset contains information on 225 users, split into 104 female and 121 male users.\n",
    "\n",
    "Out of these users, 52 have experienced a cancellation confirmation event, leading to a churn rate of approximately 23%.\n",
    "\n",
    "The subset includes 195 free users and 165 paid users, indicating that some users have either upgraded or downgraded their service level during this period.\n",
    "\n",
    "##### User Behavior:\n",
    "The 'page' column in the data tracks the users' behavior within the app, representing the actions or events users trigger. Since some events are very similar (e.g., Settings and Save Settings), we will clean and group these events into categories to simplify the analysis. The events are grouped into negative, positive, and neutral experiences based on their impact on the user experience:\n",
    "\n",
    "**Negative Experience:**\n",
    "\n",
    "These events suggest dissatisfaction or issues faced by users:\n",
    "\n",
    "* Downgrade Actions: Submit Downgrade and Downgrade will be grouped into a single category called 'Downgrade', which captures users' intentions or actions to reduce their service level.\n",
    "\n",
    "* Cancel: Users clicked the Cancel button, which may or may not lead to a confirmed cancellation.\n",
    "\n",
    "* Cancellation Confirmation: This event confirms the user's intent to cancel their subscription.\n",
    "\n",
    "* Roll Advert: Indicates that users encountered advertisements during music streaming.\n",
    "\n",
    "* Help/Error: Help and Error will be grouped into 'Help', which reflects issues or errors that prompted users to seek support from the app.\n",
    "\n",
    "**Positive Experience:**\n",
    "These events reflect positive engagement or satisfaction:\n",
    "\n",
    "* Upgrade Actions: Upgrade and Submit Upgrade will be grouped into 'Upgrade', representing users' intention or action to move to a higher service level.\n",
    "* Add Friend: Users added friends to their network.\n",
    "* NextSong: Users played the next song in their playlist, indicating ongoing engagement.\n",
    "* Thumbs Up: Users gave positive feedback on songs, suggesting content enjoyment.\n",
    "\n",
    "**Neutral Experience:**\n",
    "These events represent routine actions with no clear positive or negative implications:\n",
    "\n",
    "* Settings/Save Settings: Save Settings and Settings will be grouped into 'Settings', indicating that users made adjustments to their app configurations.\n",
    "* Logout: Users logged out of the app.\n",
    "* Home: Users returned to or accessed the home screen.\n",
    "* About: Users visited the About page of the app"
   ]
  },
  {
   "cell_type": "code",
   "execution_count": 13,
   "metadata": {},
   "outputs": [],
   "source": [
    "re_class_page = df.withColumn('page', when(F.col('page')=='Submit Downgrade', lit('Downgrade')).\\\n",
    "                              when(F.col('page')=='Save Settings', lit('Settings')).\\\n",
    "                              when(F.col('page')=='Error', lit('Help')).\\\n",
    "                              when(F.col('page')=='Submit Upgrade', lit('Upgrade')).\n",
    "                                   otherwise(F.col('page')))"
   ]
  },
  {
   "cell_type": "code",
   "execution_count": 14,
   "metadata": {},
   "outputs": [
    {
     "name": "stdout",
     "output_type": "stream",
     "text": [
      "+--------------------+---------+----------+-----------+----------+-------------+\n",
      "|                page|count_all|null_count|empty_count|user_count|session_count|\n",
      "+--------------------+---------+----------+-----------+----------+-------------+\n",
      "|              Cancel|       52|         0|          0|        52|           52|\n",
      "|         Thumbs Down|     2546|         0|          0|       203|         1133|\n",
      "|                Home|    10082|         0|          0|       223|         2072|\n",
      "|           Downgrade|     2118|         0|          0|       154|          884|\n",
      "|         Roll Advert|     3933|         0|          0|       207|          991|\n",
      "|              Logout|     3226|         0|          0|       213|         1416|\n",
      "|Cancellation Conf...|       52|         0|          0|        52|           52|\n",
      "|               About|      495|         0|          0|       155|          404|\n",
      "|            Settings|     1824|         0|          0|       195|          843|\n",
      "|     Add to Playlist|     6526|         0|          0|       215|         1596|\n",
      "|          Add Friend|     4277|         0|          0|       206|         1276|\n",
      "|            NextSong|   228108|         0|          0|       225|         2253|\n",
      "|           Thumbs Up|    12551|         0|          0|       220|         1869|\n",
      "|                Help|     1706|         0|          0|       197|          934|\n",
      "|             Upgrade|      658|         0|          0|       168|          365|\n",
      "+--------------------+---------+----------+-----------+----------+-------------+\n",
      "\n"
     ]
    }
   ],
   "source": [
    "col_count_check(re_class_page, 'page').show()"
   ]
  },
  {
   "cell_type": "markdown",
   "metadata": {},
   "source": [
    "### Churn definition\n",
    "We will use event `Cancellation Confirmation` to determin churn users. If users ever has this event, they are churn (1), otherwise, they are not churn (0)."
   ]
  },
  {
   "cell_type": "code",
   "execution_count": 15,
   "metadata": {},
   "outputs": [],
   "source": [
    "# select churn user and label them as 1 in churn column\n",
    "cancellation = df.filter(F.col('page')=='Cancellation Confirmation').select('userId').distinct().withColumn('churn', lit(1))"
   ]
  },
  {
   "cell_type": "code",
   "execution_count": 16,
   "metadata": {
    "scrolled": true
   },
   "outputs": [],
   "source": [
    "# join churn users with orginal dataframe and label other users with 0 (non-churn)\n",
    "df = df.join(cancellation, on = 'userId', how = 'left').fillna({'churn': 0})"
   ]
  },
  {
   "cell_type": "markdown",
   "metadata": {},
   "source": [
    "### Explore Churned vs non-churned users behaviors\n",
    "In this section, we will explore the behaviors of churn and non-churn users in the app by examining the following key metrics:\n",
    "\n",
    "**1/ visit Rate:** This metric represents how often users visit a particular page relative to their total activity in the app.\n",
    "\n",
    "$$\n",
    "\\text{visit_rate} = \\frac{\\text{visit_times}}{\\text{total_visit}}\n",
    "$$\n",
    " \n",
    "Where:\n",
    "* **visit_times:** The total number of events where the user visits the specific page.\n",
    "* **total_visit:** The total number of events recorded for the user across the app.\n",
    "\n",
    "**2/ session_num**: Total number of sessions, this metric captures the total number of sessions a user has within the app. A session is defined as a continuous period of user activity in the app.\n",
    "\n",
    "**3/ avg_item:** Average Items per Session, this measures the average number of items or actions (events) a user performs within a session.\n",
    "\n",
    "**4/ avg_length:** Average Song Play Duration, This metric calculates the average duration for which a user plays a song during their interactions with the app.\n",
    "\n",
    "**Visualization Plan:**\n",
    "\n",
    "**Histograms:**\n",
    "\n",
    "We will use histograms to visualize the distribution of the following metrics across all users to detect any abnormalities or patterns:\n",
    "\n",
    "* session_num (number of sessions)\n",
    "* avg_item (average number of items per session)\n",
    "* avg_length (average song play duration)\n",
    "\n",
    "**Boxplots:**\n",
    "\n",
    "Boxplots will be used to compare the distribution of the above metrics between churn and non-churn users. This will help us understand whether there are significant differences in behavior that might explain why some users churn while others do not."
   ]
  },
  {
   "cell_type": "code",
   "execution_count": 17,
   "metadata": {},
   "outputs": [],
   "source": [
    "# list of column to fill with 0 after pivoting\n",
    "page_list = ['Cancel', 'Thumbs Down', 'Home', 'Downgrade', 'Roll Advert', 'Logout', 'About', 'Settings', 'Add to Playlist', \n",
    "             'Add Friend', 'NextSong', 'Thumbs Up', 'Help', 'Upgrade', 'Cancellation Confirmation']"
   ]
  },
  {
   "cell_type": "code",
   "execution_count": 19,
   "metadata": {},
   "outputs": [],
   "source": [
    "# count number of visits per page per user\n",
    "visit_page = re_class_page.groupBy('page', 'userId').agg(count('userId').alias('visit_times')).fillna({'visit_times':0})\n",
    "\n",
    "# count total events (visits) of users\n",
    "total_visit = re_class_page.groupBy('userId').agg(count('userId').alias('total_visit')).fillna({'total_visit':0})\n",
    "\n",
    "# calculate visit rate\n",
    "visit_rate = visit_page.join(total_visit, on = 'userId', how = 'inner').\\\n",
    "                        withColumn('visit_rate', F.col('visit_times')/F.col('total_visit'))\n",
    "\n",
    "# transpose page column to rows\n",
    "visit_rate_pivot = visit_rate.groupBy('userId').pivot('page').agg(avg('visit_rate')).fillna(0, subset=page_list)"
   ]
  },
  {
   "cell_type": "code",
   "execution_count": null,
   "metadata": {},
   "outputs": [],
   "source": [
    "visit_rate_pivot.show()"
   ]
  },
  {
   "cell_type": "code",
   "execution_count": 20,
   "metadata": {},
   "outputs": [],
   "source": [
    "# Calculate the number of sessions, average of items in sessions and average song duration.\n",
    "agg_df = df.groupBy('userId', 'churn').agg(countDistinct('sessionId').alias('session_num'),\n",
    "                                                    avg('itemInSession').alias('avg_item'),\n",
    "                                                    avg(when(F.col('length').isNotNull(), F.col('length'))).alias('avg_length')\n",
    "                                          )"
   ]
  },
  {
   "cell_type": "code",
   "execution_count": 21,
   "metadata": {},
   "outputs": [
    {
     "data": {
      "image/png": "[encoded data removed]",
      "text/plain": [
       "<matplotlib.figure.Figure at 0x7baf3ddd3da0>"
      ]
     },
     "metadata": {
      "needs_background": "light"
     },
     "output_type": "display_data"
    }
   ],
   "source": [
    "# Create histogram chart to observe distrubtion of metric in agg_df\n",
    "# Convert spark dataframe to Pandas dataframe for visualization\n",
    "agg_df_pd = agg_df.toPandas()\n",
    "\n",
    "# Create a figure with 1 row and 3 subplots (side by side)\n",
    "fig, axes = plt.subplots(1, 3, figsize=(18, 6))\n",
    "\n",
    "# Loop through the first 3 columns (excluding the first 2)\n",
    "for i, col in enumerate(agg_df_pd.columns[2:5]):\n",
    "    axes[i].hist(agg_df_pd[col], bins=10, edgecolor='black')\n",
    "    axes[i].set_title(f'Histogram of {col}')\n",
    "    axes[i].set_xlabel(f'{col}')\n",
    "    axes[i].set_ylabel('Frequency')\n",
    "\n",
    "plt.tight_layout()\n",
    "\n",
    "plt.show()"
   ]
  },
  {
   "cell_type": "markdown",
   "metadata": {},
   "source": [
    "#### Observation:\n",
    "No abnormal data"
   ]
  },
  {
   "cell_type": "code",
   "execution_count": 22,
   "metadata": {},
   "outputs": [
    {
     "name": "stdout",
     "output_type": "stream",
     "text": [
      "+------+-----+-----------+------------------+------------------+--------------------+--------------------+--------------------+--------------------+-------------------------+--------------------+--------------------+--------------------+--------------------+------------------+--------------------+--------------------+--------------------+--------------------+--------------------+\n",
      "|userId|churn|session_num|          avg_item|        avg_length|               About|          Add Friend|     Add to Playlist|              Cancel|Cancellation Confirmation|           Downgrade|                Help|                Home|              Logout|          NextSong|         Roll Advert|            Settings|         Thumbs Down|           Thumbs Up|             Upgrade|\n",
      "+------+-----+-----------+------------------+------------------+--------------------+--------------------+--------------------+--------------------+-------------------------+--------------------+--------------------+--------------------+--------------------+------------------+--------------------+--------------------+--------------------+--------------------+--------------------+\n",
      "|100010|    0|          7| 35.89501312335958| 243.4214449090909|0.002624671916010...|0.010498687664041995| 0.01837270341207349|                 0.0|                      0.0|                 0.0|0.005249343832020997|0.028871391076115485|0.013123359580052493|0.7217847769028871| 0.13648293963254593|                 0.0|0.013123359580052493| 0.04461942257217848|0.005249343832020997|\n",
      "|200002|    0|          6| 60.57805907172996|242.91699209302317|0.006329113924050633|0.008438818565400843|0.016877637130801686|                 0.0|                      0.0|0.010548523206751054|0.004219409282700422| 0.04219409282700422|0.010548523206751054|0.8164556962025317|0.014767932489451477|0.006329113924050633|0.012658227848101266| 0.04430379746835443|0.006329113924050633|\n",
      "|   125|    1|          1|               5.0|261.13913750000006|                 0.0|                 0.0|                 0.0| 0.09090909090909091|      0.09090909090909091|                 0.0|                 0.0|                 0.0|                 0.0|0.7272727272727273| 0.09090909090909091|                 0.0|                 0.0|                 0.0|                 0.0|\n",
      "|   124|    0|         29|165.09927461139895|248.17653659965674|0.001450777202072539| 0.01533678756476684|  0.0244559585492228|                 0.0|                      0.0| 0.00849740932642487|0.006010362694300518|0.036476683937823835|  0.0122279792746114|0.8453886010362694|8.290155440414508E-4| 0.00538860103626943| 0.00849740932642487| 0.03544041450777202|                 0.0|\n",
      "|    51|    1|         10|200.60349025974025|247.88055082899098|8.116883116883117E-4|0.011363636363636364|0.021103896103896104|4.058441558441558...|     4.058441558441558...|0.009334415584415584|0.005275974025974026|0.030438311688311688| 0.00974025974025974| 0.856737012987013|                 0.0|0.005275974025974026|0.008522727272727272|0.040584415584415584|                 0.0|\n",
      "+------+-----+-----------+------------------+------------------+--------------------+--------------------+--------------------+--------------------+-------------------------+--------------------+--------------------+--------------------+--------------------+------------------+--------------------+--------------------+--------------------+--------------------+--------------------+\n",
      "only showing top 5 rows\n",
      "\n"
     ]
    }
   ],
   "source": [
    "# join all metrics together\n",
    "user_agg_df = agg_df.join(visit_rate_pivot, on = 'userId', how ='left').fillna(0, subset=page_list)\n",
    "user_agg_df.show(5)"
   ]
  },
  {
   "cell_type": "code",
   "execution_count": 23,
   "metadata": {},
   "outputs": [
    {
     "data": {
      "image/png": "[encoded data removed]",
      "text/plain": [
       "<matplotlib.figure.Figure at 0x7baf70ffc978>"
      ]
     },
     "metadata": {
      "needs_background": "light"
     },
     "output_type": "display_data"
    }
   ],
   "source": [
    "# Create boxlot chart to observe distrubtion of metric in user_agg_df\n",
    "# Convert spark dataframe to Pandas dataframe for visualization\n",
    "user_agg_pd = user_agg_df.toPandas()\n",
    "\n",
    "fig, axes = plt.subplots(5, 4, figsize=(18, 18))\n",
    "\n",
    "axes = axes.flatten()\n",
    "\n",
    "# Loop through all columns, starting from index 2\n",
    "for i, col in enumerate(user_agg_pd.columns[2:]):\n",
    "    sns.boxplot(data=user_agg_pd, x='churn', y=col, ax=axes[i])\n",
    "    axes[i].set_title(f\"Boxplot of {col}\")\n",
    "\n",
    "# Hide the last empty subplots\n",
    "for j in range(i + 1, len(axes)):\n",
    "    fig.delaxes(axes[j])\n",
    "\n",
    "\n",
    "plt.tight_layout()\n",
    "\n",
    "plt.show()"
   ]
  },
  {
   "cell_type": "markdown",
   "metadata": {},
   "source": [
    "#### Observation\n",
    "\n",
    "From the boxplot analysis, we can observe the following trends:\n",
    "\n",
    "Churn users tend to have fewer sessions and a lower average number of items per session compared to non-churn users.\n",
    "\n",
    "Additionally, churn users appear to encounter more negative experiences in the app, including:\n",
    "* Downgrade events\n",
    "* Thumbs Down (negative feedback on songs)\n",
    "* Roll Advert (ads experienced during music playback)\n",
    "* Logout events (indicating less engagement)"
   ]
  },
  {
   "cell_type": "markdown",
   "metadata": {},
   "source": [
    "# Feature Engineering\n",
    "\n",
    "Based on these observations, we will select the following features for our model:\n",
    "\n",
    "* session_num (total number of sessions)\n",
    "* avg_item (average number of items per session)\n",
    "* Downgrade (whether the user downgraded their service level)\n",
    "* Thumbs Down (negative feedback events)\n",
    "* Logout (indicating users logging out of the app)\n",
    "* Roll Advert (whether the user experienced ads)\n",
    "\n",
    "Since these features have already been cleaned and processed during the exploratory data analysis (EDA) stage, we can proceed directly to selecting these features for model training.\n",
    "\n",
    "In addition to behavioral data, we will incorporate user profile information, such as gender and subscription level, into our model. Since these are categorical features, they need to be properly processed before being used in the model.\n",
    "\n",
    "**Processing Strategy:**\n",
    "\n",
    "We will use OneHotEncoder to transform categorical columns (gender and level), ensuring the model can handle different categories effectively. OneHotEncoding is particularly useful because it allows the model to scale efficiently, especially when applied to large datasets with multiple categories.\n",
    "\n",
    "**Subscription Level:**\n",
    "\n",
    "As mentioned earlier, users can change their subscription level over time (e.g., switching from free to paid). To account for this dynamic behavior and avoid duplication in the final dataset, we will follow these steps:\n",
    "\n",
    "* **Track Subscription Changes Over Time:** We will monitor how users' subscription levels change over the course of their activity. This feature can provide valuable insight into churn behavior, as frequent changes may correlate with churn risk.\n",
    "\n",
    "* **Capture the Most Recent Subscription Level:** To prevent duplication and ensure each user has a single entry in the model, we will record the most recent subscription level for each user. This gives us a snapshot of the user's status at the end of the observation period, which is crucial for predicting future churn behavior."
   ]
  },
  {
   "cell_type": "code",
   "execution_count": 25,
   "metadata": {},
   "outputs": [],
   "source": []
  },
  {
   "cell_type": "code",
   "execution_count": 26,
   "metadata": {},
   "outputs": [],
   "source": [
    "# process gender data: convert categorical to numeric\n",
    "gender_df = df.select('userId', 'gender').distinct()\n",
    "\n",
    "gender_indexer = StringIndexer(inputCol=\"gender\", outputCol=\"gender_index\")\n",
    "\n",
    "# One-hot encode the indexed gender column\n",
    "gender_encoder = OneHotEncoder(inputCol=\"gender_index\", outputCol=\"gender_encoded\")\n",
    "\n",
    "# Create a pipeline to apply transformations\n",
    "gender_pipeline = Pipeline(stages=[gender_indexer, gender_encoder])\n",
    "\n",
    "# Apply the transformations to the DataFrame\n",
    "gender_df_transform = gender_pipeline.fit(gender_df).transform(gender_df).select('userId', 'gender_encoded').distinct()"
   ]
  },
  {
   "cell_type": "code",
   "execution_count": null,
   "metadata": {},
   "outputs": [],
   "source": [
    "gender_df_transform.show(5)"
   ]
  },
  {
   "cell_type": "code",
   "execution_count": 27,
   "metadata": {},
   "outputs": [],
   "source": [
    "# Index the subscription level column\n",
    "subscription = df.select('userId', 'level', 'timestamp').distinct()\n",
    "subscription_indexer = StringIndexer(inputCol=\"level\", outputCol=\"subscription_index\")\n",
    "\n",
    "# One-hot encode the indexed subscription level\n",
    "subscription_encoder = OneHotEncoder(inputCol=\"subscription_index\", outputCol=\"subscription_encoded\")\n",
    "\n",
    "# Create a pipeline for subscription level transformations\n",
    "subscription_pipeline = Pipeline(stages=[subscription_indexer, subscription_encoder])\n",
    "\n",
    "# Apply the pipeline to the data\n",
    "level_df = subscription_pipeline.fit(subscription).transform(subscription)\n",
    "\n",
    "\n",
    "# Define a window partitioned by user_id and ordered by time \n",
    "window_spec = Window.partitionBy(\"userId\").orderBy(\"timestamp\")\n",
    "\n",
    "# Use lag to get the previous subscription level\n",
    "level_df = level_df.withColumn(\"prev_subscription_level\", lag(\"level\").over(window_spec))\n",
    "\n",
    "# Create a new column 'subscription_change' that indicates whether the user changed their subscription level\n",
    "level_df = level_df.withColumn(\n",
    "    \"subscription_change\",\n",
    "    when(col(\"level\") != col(\"prev_subscription_level\"), 1).otherwise(0)\n",
    ")\n",
    "\n",
    "# Calculate total number of subscription changes per user\n",
    "subscription_changes = level_df.groupBy(\"userId\").agg(sum(\"subscription_change\").alias(\"total_subscription_changes\"))\n",
    "\n",
    "# Add a row number based on the most recent timestamp for each user\n",
    "level_with_rownum = level_df.withColumn(\"row_num\", row_number().over(window_spec))\n",
    "\n",
    "# Filter to get only the most recent row for each user\n",
    "level_select = level_with_rownum.filter(col(\"row_num\") == 1).select('userId', 'subscription_encoded').distinct()"
   ]
  },
  {
   "cell_type": "code",
   "execution_count": 28,
   "metadata": {},
   "outputs": [],
   "source": [
    "# Join all features together\n",
    "all_features = user_agg_df.join(gender_df_transform, on = 'userId', how ='left').\\\n",
    "                           join(level_select, on = 'userId', how = 'left').\\\n",
    "                           join(subscription_changes, on ='userId', how = 'left')"
   ]
  },
  {
   "cell_type": "code",
   "execution_count": 29,
   "metadata": {},
   "outputs": [],
   "source": [
    "# select final features\n",
    "final_features = all_features.select('userId', 'churn', 'session_num', 'avg_item', 'Downgrade', \n",
    "                                     'Thumbs Down', 'Logout', 'Roll Advert', 'gender_encoded', 'subscription_encoded','total_subscription_changes')"
   ]
  },
  {
   "cell_type": "code",
   "execution_count": null,
   "metadata": {},
   "outputs": [],
   "source": [
    "final_features.show(4)"
   ]
  },
  {
   "cell_type": "markdown",
   "metadata": {},
   "source": [
    "# Modeling\n",
    "\n",
    "Since this is a classification problem, we will use Logistic Regression and Random Forest Classifier to test and evaluate the performance of different models.\n",
    "\n",
    "* Logistic Regression is a well-known and widely used model for binary classification tasks due to its simplicity, interpretability, and ability to provide probabilistic outcomes. It is effective when the relationship between the features and the target variable is approximately linear.\n",
    "\n",
    "* Random Forest Classifier is chosen because it is a powerful ensemble method that combines multiple decision trees, which helps in reducing overfitting and improving generalization. It is especially useful for capturing complex, non-linear relationships and can handle both categorical and continuous variables well.\n",
    "\n",
    "To improve model performance, we will use Grid Search for hyperparameter tuning, which allows us to systematically explore different parameter combinations to find the best configuration for each model.\n",
    "\n",
    "Finally, we will determine the best model based on the F1-score metric. The F1-score is a good choice here because we are dealing with an imbalanced dataset (with a focus on non-churned users), and it balances precision and recall, making it more suitable for evaluating performance in this context than accuracy alone."
   ]
  },
  {
   "cell_type": "markdown",
   "metadata": {},
   "source": [
    "### Prepare features and split train, test data"
   ]
  },
  {
   "cell_type": "code",
   "execution_count": 30,
   "metadata": {},
   "outputs": [],
   "source": [
    "# Split the data into training and test sets (70% training and 30% testing)\n",
    "train_data, test_data = final_features.randomSplit([0.7, 0.3], seed=42)"
   ]
  },
  {
   "cell_type": "code",
   "execution_count": null,
   "metadata": {},
   "outputs": [],
   "source": [
    "train_data.show(5)"
   ]
  },
  {
   "cell_type": "code",
   "execution_count": 31,
   "metadata": {},
   "outputs": [],
   "source": [
    "# Prepare the feature vector using VectorAssembler\n",
    "assembler = VectorAssembler(inputCols=['session_num', 'avg_item', 'Downgrade', 'Thumbs Down', 'Logout', 'Roll Advert',\n",
    "                                       'gender_encoded', 'subscription_encoded','total_subscription_changes'], \n",
    "                            outputCol='features')"
   ]
  },
  {
   "cell_type": "markdown",
   "metadata": {},
   "source": [
    "### LogistricRegression Model"
   ]
  },
  {
   "cell_type": "code",
   "execution_count": 32,
   "metadata": {},
   "outputs": [
    {
     "name": "stdout",
     "output_type": "stream",
     "text": [
      "F1 Score: 0.6489772819144636\n",
      "+------+-----+----------+--------------------+\n",
      "|userId|churn|prediction|         probability|\n",
      "+------+-----+----------+--------------------+\n",
      "|200002|    0|       0.0|[0.58730397002372...|\n",
      "|    51|    1|       0.0|[0.81779017179471...|\n",
      "|    15|    0|       0.0|[0.81122708312905...|\n",
      "|100014|    1|       0.0|[0.79971546706889...|\n",
      "|    11|    0|       0.0|[0.79512649822435...|\n",
      "|300017|    0|       0.0|[0.97816681381714...|\n",
      "|100021|    1|       0.0|[0.58440177093977...|\n",
      "|   112|    0|       0.0|[0.76562602436711...|\n",
      "|    42|    0|       0.0|[0.91715667915528...|\n",
      "|    87|    1|       0.0|[0.92770251466843...|\n",
      "+------+-----+----------+--------------------+\n",
      "only showing top 10 rows\n",
      "\n"
     ]
    }
   ],
   "source": [
    "lr = LogisticRegression(labelCol='churn', featuresCol='features')\n",
    "\n",
    "# Build a pipeline with feature assembler and the classifier\n",
    "lr_pipeline = Pipeline(stages=[assembler, lr])\n",
    "\n",
    "# Cross-validation with hyperparameter tuning\n",
    "paramGrid_lr = ParamGridBuilder() \\\n",
    "    .addGrid(lr.regParam, [0.1, 0.01]) \\\n",
    "    .build()\n",
    "\n",
    "# Initialize the cross-validator\n",
    "crossval_lr = CrossValidator(estimator=lr_pipeline,\n",
    "                          estimatorParamMaps=paramGrid_lr,\n",
    "                          evaluator=MulticlassClassificationEvaluator(labelCol='churn', predictionCol='prediction', metricName='f1'),\n",
    "                          numFolds=5)\n",
    "\n",
    "# Fit the model using cross-validation\n",
    "cvModel_lr = crossval_lr.fit(train_data)\n",
    "\n",
    "# Make predictions on the test set\n",
    "predictions_lr = cvModel_lr.transform(test_data)\n",
    "\n",
    "# Evaluate the model using F1-Score\n",
    "f1_evaluator_lr = MulticlassClassificationEvaluator(labelCol='churn', predictionCol='prediction', metricName='f1')\n",
    "f1_score_lr = f1_evaluator_lr.evaluate(predictions_lr)\n",
    "\n",
    "# Output the F1-Score\n",
    "print(f\"F1 Score: {f1_score_lr}\")\n",
    "\n",
    "# View predictions DataFrame (to see predicted labels, probabilities)\n",
    "predictions_lr.select('userId', 'churn', 'prediction', 'probability').show(10)"
   ]
  },
  {
   "cell_type": "markdown",
   "metadata": {},
   "source": [
    "### RandomForestClassifier Model"
   ]
  },
  {
   "cell_type": "code",
   "execution_count": 33,
   "metadata": {},
   "outputs": [
    {
     "name": "stdout",
     "output_type": "stream",
     "text": [
      "F1 Score: 0.6258455522971652\n",
      "+------+-----+----------+--------------------+\n",
      "|userId|churn|prediction|         probability|\n",
      "+------+-----+----------+--------------------+\n",
      "|200002|    0|       1.0|[0.48971568180914...|\n",
      "|    51|    1|       0.0|[0.75949206496284...|\n",
      "|    15|    0|       0.0|[0.88011189950795...|\n",
      "|100014|    1|       0.0|[0.77917738665068...|\n",
      "|    11|    0|       0.0|[0.79616113004785...|\n",
      "|300017|    0|       0.0|[0.85169399504516...|\n",
      "|100021|    1|       1.0|[0.48162965577420...|\n",
      "|   112|    0|       0.0|[0.73463355125997...|\n",
      "|    42|    0|       0.0|[0.85206629914656...|\n",
      "|    87|    1|       0.0|[0.88800502072520...|\n",
      "+------+-----+----------+--------------------+\n",
      "only showing top 10 rows\n",
      "\n"
     ]
    }
   ],
   "source": [
    "rf = RandomForestClassifier(labelCol='churn', featuresCol='features', numTrees=50)\n",
    "rf_pipeline = Pipeline(stages=[assembler, rf])\n",
    "\n",
    "# Cross-validation with Random Forest\n",
    "paramGrid_rf = ParamGridBuilder() \\\n",
    "    .addGrid(rf.numTrees, [50, 100]) \\\n",
    "    .build()\n",
    "\n",
    "crossval_rf = CrossValidator(estimator=rf_pipeline,\n",
    "                          estimatorParamMaps=paramGrid_rf,\n",
    "                          evaluator=MulticlassClassificationEvaluator(labelCol='churn', predictionCol='prediction', metricName='f1'),\n",
    "                          numFolds=5)\n",
    "\n",
    "# Fit the model using cross-validation\n",
    "cvModel_rf = crossval_rf.fit(train_data)\n",
    "\n",
    "# Make predictions on the test set\n",
    "predictions_rf = cvModel_rf.transform(test_data)\n",
    "\n",
    "# Evaluate the model using F1-Score\n",
    "f1_evaluator_rf = MulticlassClassificationEvaluator(labelCol='churn', predictionCol='prediction', metricName='f1')\n",
    "f1_score_rf = f1_evaluator_rf.evaluate(predictions_rf)\n",
    "\n",
    "# Output the F1-Score\n",
    "print(f\"F1 Score: {f1_score_rf}\")\n",
    "\n",
    "#View predictions DataFrame (to see predicted labels, probabilities)\n",
    "predictions_rf.select('userId', 'churn', 'prediction', 'probability').show(10)"
   ]
  },
  {
   "cell_type": "markdown",
   "metadata": {},
   "source": [
    "### Evaluation \n",
    "Based on the model evaluation, the LogisticRegressionachieved a higher F1-score (0.648) compared to the RandomForestClassifier model, which had an F1-score of 0.625. Therefore, we will select the RandomForestClassifier as the model for predicting churn.\n",
    "\n",
    "However, an F1-score of 0.648 suggests that there is still room for improvement. Potential strategies for enhancing the model's performance will be discussed in the Limitations and Future Improvements section."
   ]
  },
  {
   "cell_type": "markdown",
   "metadata": {},
   "source": [
    "# Limitations and Future Improvements\n",
    "\n",
    "**1/ Limited Dataset Size**\n",
    "\n",
    "The model was trained on a relatively small subset of user data. With only 225 users, it may not fully capture the diversity of user behaviors, which can affect the model's generalization to a broader audience. A small dataset can lead to overfitting, where the model performs well on this specific data but struggles with new, unseen data.\n",
    "\n",
    "**Improvement:**\n",
    "\n",
    "Expanding the dataset to include more users and a longer time frame of activity would provide a richer and more representative sample. This could help the model learn more nuanced patterns and behaviors, potentially improving performance.\n",
    "\n",
    "**2/ Feature Selection**\n",
    "\n",
    "The features selected for the model are based on observed behavioral trends (e.g., session numbers, downgrades, thumbs down) and user demographic information (eg, gender, level of subscription) but these may not fully capture all the factors contributing to user churn. There could be other important variables—such as otehr user demographics, engagement frequency, or in-app spending—that were not included in this analysis.\n",
    "\n",
    "**Improvement:**\n",
    "Future iterations of the model should explore incorporating additional features such as:\n",
    "Demographic data (age, location, etc.)\n",
    "User engagement trends over time (e.g., daily/weekly activity levels)\n",
    "Monetary behavior (e.g., in-app purchases)\n",
    "\n",
    "This could improve the model's predictive power by giving it more information to work with.\n",
    "\n",
    "**3/ Class Imbalance:**\n",
    "While we used the F1-score to handle the imbalanced dataset, churn events are relatively rare in the data (23% churn rate). Imbalanced classes can lead the model to underperform in predicting the minority class (churn) because it is biased towards the majority class (non-churn).\n",
    "\n",
    "**Improvement:**\n",
    "Techniques such as oversampling the minority class (e.g., SMOTE), undersampling the majority class, or applying cost-sensitive learning could help address the class imbalance and improve the model’s ability to predict churn events more accurately.\n",
    "\n",
    "\n",
    "**4/ Temporal Patterns:**\n",
    "The current model does not account for changes in user behavior over time. Users might exhibit different behaviors as they approach churn (e.g., gradual disengagement), but this time-dependent information was not captured in the feature set.\n",
    "\n",
    "**Improvement:**\n",
    "Incorporating temporal features such as activity trends or time series data could help the model detect patterns leading up to churn more effectively. Recurrent Neural Networks (RNNs) or Long Short-Term Memory (LSTM) models could be considered for this purpose."
   ]
  },
  {
   "cell_type": "code",
   "execution_count": null,
   "metadata": {},
   "outputs": [],
   "source": []
  }
 ],
 "metadata": {
  "kernelspec": {
   "display_name": "Python 3",
   "language": "python",
   "name": "python3"
  },
  "language_info": {
   "codemirror_mode": {
    "name": "ipython",
    "version": 3
   },
   "file_extension": ".py",
   "mimetype": "text/x-python",
   "name": "python",
   "nbconvert_exporter": "python",
   "pygments_lexer": "ipython3",
   "version": "3.6.3"
  }
 },
 "nbformat": 4,
 "nbformat_minor": 2
}
